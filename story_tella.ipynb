{
 "cells": [
  {
   "metadata": {},
   "cell_type": "markdown",
   "source": [
    "# This is a sample Jupyter Notebook\n",
    "\n",
    "Below is an example of a code cell. \n",
    "Put your cursor into the cell and press Shift+Enter to execute it and select the next one, or click 'Run Cell' button.\n",
    "\n",
    "Press Double Shift to search everywhere for classes, files, tool windows, actions, and settings.\n",
    "\n",
    "To learn more about Jupyter Notebooks in PyCharm, see [help](https://www.jetbrains.com/help/pycharm/ipython-notebook-support.html).\n",
    "For an overview of PyCharm, go to Help -> Learn IDE features or refer to [our documentation](https://www.jetbrains.com/help/pycharm/getting-started.html)."
   ],
   "id": "8a77807f92f26ee"
  },
  {
   "metadata": {
    "ExecuteTime": {
     "end_time": "2025-08-26T14:42:42.112429Z",
     "start_time": "2025-08-26T14:42:42.083461Z"
    }
   },
   "cell_type": "code",
   "source": [
    "from dotenv import load_dotenv\n",
    "load_dotenv()"
   ],
   "id": "4a0d45afd2b67659",
   "outputs": [
    {
     "data": {
      "text/plain": [
       "True"
      ]
     },
     "execution_count": 1,
     "metadata": {},
     "output_type": "execute_result"
    }
   ],
   "execution_count": 1
  },
  {
   "metadata": {
    "ExecuteTime": {
     "end_time": "2025-08-26T14:43:46.816784Z",
     "start_time": "2025-08-26T14:42:42.133438Z"
    }
   },
   "cell_type": "code",
   "source": [
    "import os\n",
    "from diffusers import AutoPipelineForText2Image\n",
    "import torch\n",
    "\n",
    "# Используем SDXL-Turbo — 4 шага, быстро, мало VRAM\n",
    "pipe = AutoPipelineForText2Image.from_pretrained(\n",
    "    \"stabilityai/sdxl-turbo\",\n",
    "    torch_dtype=torch.float16,\n",
    "    variant=\"fp16\",\n",
    "    use_safetensors=True\n",
    ")\n",
    "pipe.to(\"cuda\")\n",
    "\n",
    "def generate_image(prompt, filename=\"illustration.png\"):\n",
    "    full_prompt = (\n",
    "        f\"Акварельная иллюстрация в стиле импрессионизма, русская народная сказка — {\" \".join(prompt.split(maxsplit=70))}. \"\n",
    "        \"Impressionist watercolor, dreamy light, Russian fairy tale\"\n",
    "    )\n",
    "    image = pipe(prompt=full_prompt, num_inference_steps=4, guidance_scale=0.0).images[0]\n",
    "\n",
    "    os.makedirs(\"static\", exist_ok=True)\n",
    "    image.save(f\"static/{filename}\")\n",
    "    return f\"static/{filename}\""
   ],
   "id": "50fe9f510f30e31d",
   "outputs": [
    {
     "data": {
      "text/plain": [
       "Loading pipeline components...:   0%|          | 0/7 [00:00<?, ?it/s]"
      ],
      "application/vnd.jupyter.widget-view+json": {
       "version_major": 2,
       "version_minor": 0,
       "model_id": "abb396b2c37d4abc944c7c8badf3fa51"
      }
     },
     "metadata": {},
     "output_type": "display_data"
    }
   ],
   "execution_count": 2
  },
  {
   "metadata": {
    "ExecuteTime": {
     "end_time": "2025-08-26T14:44:03.023275Z",
     "start_time": "2025-08-26T14:43:47.269406Z"
    }
   },
   "cell_type": "code",
   "source": [
    "from diffusers import StableVideoDiffusionPipeline\n",
    "from diffusers.utils import export_to_video\n",
    "import torch\n",
    "from PIL import Image\n",
    "\n",
    "pipe_svd = StableVideoDiffusionPipeline.from_pretrained(\n",
    "    \"stabilityai/stable-video-diffusion-img2vid-xt-1-1\",\n",
    "    torch_dtype=torch.float16,\n",
    "    variant=\"fp16\",\n",
    "    token=os.environ[\"HF_TOKEN\"],\n",
    ")\n",
    "pipe_svd.to(\"cuda\")\n",
    "\n",
    "def generate_video(image_path, prompt, output_path=\"video.mp4\", fps=5, num_frames=14):\n",
    "    print(f\"🎥 Генерация видео: {prompt[:50]}...\")\n",
    "\n",
    "    image = Image.open(image_path).convert(\"RGB\")\n",
    "    image = image.resize((576, 576))  # Меньше = меньше VRAM\n",
    "\n",
    "    frames = pipe_svd(\n",
    "        image,\n",
    "        num_frames=num_frames,           # 14 кадров ≈ 3 сек при 5 FPS\n",
    "        decode_chunk_size=1,             # Меньше VRAM\n",
    "        motion_bucket_id=80,\n",
    "        noise_aug_strength=0.02,\n",
    "        height=576,\n",
    "        width=576\n",
    "    ).frames[0]\n",
    "\n",
    "    export_to_video(frames, output_path, fps=fps)\n",
    "    print(f\"✅ Видео сохранено: {output_path}\")\n",
    "    return output_path"
   ],
   "id": "b9a9a6827d1754b6",
   "outputs": [
    {
     "data": {
      "text/plain": [
       "Loading pipeline components...:   0%|          | 0/5 [00:00<?, ?it/s]"
      ],
      "application/vnd.jupyter.widget-view+json": {
       "version_major": 2,
       "version_minor": 0,
       "model_id": "1e538dd1a085492e80b2debd31dc0bba"
      }
     },
     "metadata": {},
     "output_type": "display_data"
    }
   ],
   "execution_count": 3
  },
  {
   "metadata": {
    "ExecuteTime": {
     "end_time": "2025-08-26T14:44:03.663623Z",
     "start_time": "2025-08-26T14:44:03.037665Z"
    }
   },
   "cell_type": "code",
   "source": [
    "import ollama\n",
    "\n",
    "class Agent:\n",
    "    def __init__(self, name, system_prompt, model=\"qwen:14b-chat-q4_K_M\"):\n",
    "        self.name = name\n",
    "        self.system_prompt = system_prompt\n",
    "        self.model = model\n",
    "\n",
    "    def respond(self, prompt):\n",
    "        response = ollama.generate(\n",
    "            model=self.model,\n",
    "            prompt=f\"{self.system_prompt}\\n\\n{prompt}\",\n",
    "            options={\n",
    "                'temperature': 0.6,\n",
    "                'top_p': 0.95,\n",
    "                'top_k': 30,\n",
    "                'num_ctx': 8192\n",
    "            }\n",
    "        )\n",
    "        return response['response'].strip()"
   ],
   "id": "db78c63cf89abd2f",
   "outputs": [],
   "execution_count": 4
  },
  {
   "metadata": {
    "jupyter": {
     "is_executing": true
    },
    "ExecuteTime": {
     "start_time": "2025-08-26T14:44:03.673633Z"
    }
   },
   "cell_type": "code",
   "source": [
    "import random\n",
    "import os\n",
    "\n",
    "# === Настройки ===\n",
    "args = type('', (), {})()\n",
    "args.generate_video = False  # Поменяйте на True, если хотите видео\n",
    "\n",
    "# === Тема ===\n",
    "PLOT_TEMPLATES = [\n",
    "    \"Царевну похитил змей, и добрый молодец отправляется её спасать.\",\n",
    "    \"Царь заболел — нужна живая вода за тридевять земель.\"\n",
    "]\n",
    "chosen_plot = random.choice(PLOT_TEMPLATES)\n",
    "print(f\"🎯 ТЕМА СКАЗКИ: {chosen_plot}\")\n",
    "\n",
    "# === Этапы Кемпбелла ===\n",
    "CAMPBELL_STAGES = [\n",
    "    \"1. Обычный мир\",\n",
    "    \"2. Призыв к приключению\",\n",
    "    \"3. Отказ от призыва\",\n",
    "    \"4. Встреча с наставником\",\n",
    "    \"5. Переход порога\",\n",
    "    \"6. Испытания, союзники, враги\",\n",
    "    \"7. Подземелье: приближение к пещере\",\n",
    "    \"8. Кульминация: испытание огнём\",\n",
    "    \"9. Вознаграждение\",\n",
    "    \"10. Возвращение с даром\"\n",
    "]\n",
    "\n",
    "# === Агенты ===\n",
    "narrator = Agent(\"Рассказчик\", \"Ты — волшебный рассказчик. Говори на русском, в стиле народной сказки.\")\n",
    "child = Agent(\"Ребёнок\", \"Ты — ребёнок 7 лет. Реагируй по-русски: задавай вопросы, проси изменить.\")\n",
    "editor = Agent(\"Редактор\", \"Ты — редактор. Проверяй логику сказки.\")\n",
    "\n",
    "# === Хранение ===\n",
    "history = []\n",
    "full_tale = []\n",
    "video_files = []\n",
    "\n",
    "# === Цикл ===\n",
    "for stage in CAMPBELL_STAGES:\n",
    "    print(f\"\\n{'='*60}\")\n",
    "    print(f\"{stage.upper()}\")\n",
    "    print(f\"{'='*60}\")\n",
    "\n",
    "    stage_prompt = f\"Расскажи этап сказки: {stage}. Тема: {chosen_plot}. Учти: {history[-2:] if history else 'начало'}\"\n",
    "    tale_fragment = narrator.respond(stage_prompt)\n",
    "    history.append({\"role\": \"Рассказчик\", \"content\": tale_fragment})\n",
    "    full_tale.append(f\"**{stage}**\\n{tale_fragment}\")\n",
    "\n",
    "    print(f\"💬 Рассказчик: {tale_fragment}\")\n",
    "\n",
    "    child_resp = child.respond(f\"Ты услышал: {tale_fragment}...\")\n",
    "    print(f\"👶 Ребёнок: {child_resp}\")\n",
    "\n",
    "    editor_resp = editor.respond(f\"Проверь логику: {tale_fragment}\")\n",
    "    print(f\"📝 Редактор: {editor_resp}\")\n",
    "\n",
    "    # Картинка\n",
    "    img_filename = f\"stage_{CAMPBELL_STAGES.index(stage)+1}.png\"\n",
    "    img_path = generate_image(tale_fragment, img_filename)\n",
    "\n",
    "    # Видео (опционально)\n",
    "    if args.generate_video:\n",
    "        video_filename = f\"video_stage_{CAMPBELL_STAGES.index(stage)+1}.mp4\"\n",
    "        video_path = generate_video(img_path, tale_fragment, f\"static/{video_filename}\")\n",
    "        if video_path:\n",
    "            video_files.append(video_path)\n",
    "\n",
    "# === Итог ===\n",
    "print(f\"\\n📜 ПОЛНАЯ СКАЗКА:\\n\")\n",
    "for part in full_tale:\n",
    "    print(f\"\\n{part}\\n{'-'*40}\")"
   ],
   "id": "9c45f18bc52796d5",
   "outputs": [
    {
     "name": "stdout",
     "output_type": "stream",
     "text": [
      "🎯 ТЕМА СКАЗКИ: Царевну похитил змей, и добрый молодец отправляется её спасать.\n",
      "\n",
      "============================================================\n",
      "1. ОБЫЧНЫЙ МИР\n",
      "============================================================\n"
     ]
    }
   ],
   "execution_count": null
  },
  {
   "metadata": {},
   "cell_type": "code",
   "outputs": [],
   "execution_count": null,
   "source": "",
   "id": "6a5675ceb03f9946"
  }
 ],
 "metadata": {
  "kernelspec": {
   "display_name": "Python 3",
   "language": "python",
   "name": "python3"
  },
  "language_info": {
   "codemirror_mode": {
    "name": "ipython",
    "version": 2
   },
   "file_extension": ".py",
   "mimetype": "text/x-python",
   "name": "python",
   "nbconvert_exporter": "python",
   "pygments_lexer": "ipython2",
   "version": "2.7.6"
  }
 },
 "nbformat": 4,
 "nbformat_minor": 5
}
